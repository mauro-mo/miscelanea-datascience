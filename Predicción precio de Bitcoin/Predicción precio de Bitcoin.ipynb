{
 "cells": [
  {
   "cell_type": "code",
   "execution_count": 1,
   "metadata": {},
   "outputs": [],
   "source": [
    "import pandas as pd\n",
    "import numpy as np\n",
    "import matplotlib.pyplot as plt\n",
    "import seaborn as sns\n",
    "%matplotlib inline\n",
    "import warnings\n",
    "warnings.simplefilter('ignore')"
   ]
  },
  {
   "cell_type": "code",
   "execution_count": 2,
   "metadata": {},
   "outputs": [],
   "source": [
    "df = pd.read_csv('crypto-markets.csv', parse_dates=['date'], index_col='date')"
   ]
  },
  {
   "cell_type": "code",
   "execution_count": 3,
   "metadata": {},
   "outputs": [
    {
     "data": {
      "text/html": [
       "<div>\n",
       "<style scoped>\n",
       "    .dataframe tbody tr th:only-of-type {\n",
       "        vertical-align: middle;\n",
       "    }\n",
       "\n",
       "    .dataframe tbody tr th {\n",
       "        vertical-align: top;\n",
       "    }\n",
       "\n",
       "    .dataframe thead th {\n",
       "        text-align: right;\n",
       "    }\n",
       "</style>\n",
       "<table border=\"1\" class=\"dataframe\">\n",
       "  <thead>\n",
       "    <tr style=\"text-align: right;\">\n",
       "      <th></th>\n",
       "      <th>symbol</th>\n",
       "      <th>open</th>\n",
       "      <th>high</th>\n",
       "      <th>low</th>\n",
       "      <th>close</th>\n",
       "      <th>volume</th>\n",
       "      <th>market</th>\n",
       "      <th>name</th>\n",
       "      <th>ranknow</th>\n",
       "    </tr>\n",
       "    <tr>\n",
       "      <th>date</th>\n",
       "      <th></th>\n",
       "      <th></th>\n",
       "      <th></th>\n",
       "      <th></th>\n",
       "      <th></th>\n",
       "      <th></th>\n",
       "      <th></th>\n",
       "      <th></th>\n",
       "      <th></th>\n",
       "    </tr>\n",
       "  </thead>\n",
       "  <tbody>\n",
       "    <tr>\n",
       "      <td>2013-04-28</td>\n",
       "      <td>BTC</td>\n",
       "      <td>135.30</td>\n",
       "      <td>135.98</td>\n",
       "      <td>132.10</td>\n",
       "      <td>134.21</td>\n",
       "      <td>0</td>\n",
       "      <td>1500520000</td>\n",
       "      <td>Bitcoin</td>\n",
       "      <td>1</td>\n",
       "    </tr>\n",
       "    <tr>\n",
       "      <td>2013-04-29</td>\n",
       "      <td>BTC</td>\n",
       "      <td>134.44</td>\n",
       "      <td>147.49</td>\n",
       "      <td>134.00</td>\n",
       "      <td>144.54</td>\n",
       "      <td>0</td>\n",
       "      <td>1491160000</td>\n",
       "      <td>Bitcoin</td>\n",
       "      <td>1</td>\n",
       "    </tr>\n",
       "    <tr>\n",
       "      <td>2013-04-30</td>\n",
       "      <td>BTC</td>\n",
       "      <td>144.00</td>\n",
       "      <td>146.93</td>\n",
       "      <td>134.05</td>\n",
       "      <td>139.00</td>\n",
       "      <td>0</td>\n",
       "      <td>1597780000</td>\n",
       "      <td>Bitcoin</td>\n",
       "      <td>1</td>\n",
       "    </tr>\n",
       "    <tr>\n",
       "      <td>2013-05-01</td>\n",
       "      <td>BTC</td>\n",
       "      <td>139.00</td>\n",
       "      <td>139.89</td>\n",
       "      <td>107.72</td>\n",
       "      <td>116.99</td>\n",
       "      <td>0</td>\n",
       "      <td>1542820000</td>\n",
       "      <td>Bitcoin</td>\n",
       "      <td>1</td>\n",
       "    </tr>\n",
       "    <tr>\n",
       "      <td>2013-05-02</td>\n",
       "      <td>BTC</td>\n",
       "      <td>116.38</td>\n",
       "      <td>125.60</td>\n",
       "      <td>92.28</td>\n",
       "      <td>105.21</td>\n",
       "      <td>0</td>\n",
       "      <td>1292190000</td>\n",
       "      <td>Bitcoin</td>\n",
       "      <td>1</td>\n",
       "    </tr>\n",
       "  </tbody>\n",
       "</table>\n",
       "</div>"
      ],
      "text/plain": [
       "           symbol    open    high     low   close  volume      market  \\\n",
       "date                                                                    \n",
       "2013-04-28    BTC  135.30  135.98  132.10  134.21       0  1500520000   \n",
       "2013-04-29    BTC  134.44  147.49  134.00  144.54       0  1491160000   \n",
       "2013-04-30    BTC  144.00  146.93  134.05  139.00       0  1597780000   \n",
       "2013-05-01    BTC  139.00  139.89  107.72  116.99       0  1542820000   \n",
       "2013-05-02    BTC  116.38  125.60   92.28  105.21       0  1292190000   \n",
       "\n",
       "               name  ranknow  \n",
       "date                          \n",
       "2013-04-28  Bitcoin        1  \n",
       "2013-04-29  Bitcoin        1  \n",
       "2013-04-30  Bitcoin        1  \n",
       "2013-05-01  Bitcoin        1  \n",
       "2013-05-02  Bitcoin        1  "
      ]
     },
     "execution_count": 3,
     "metadata": {},
     "output_type": "execute_result"
    }
   ],
   "source": [
    "df.head()"
   ]
  },
  {
   "cell_type": "code",
   "execution_count": 4,
   "metadata": {},
   "outputs": [
    {
     "name": "stdout",
     "output_type": "stream",
     "text": [
      "<class 'pandas.core.frame.DataFrame'>\n",
      "DatetimeIndex: 658167 entries, 2013-04-28 to 2017-12-18\n",
      "Data columns (total 9 columns):\n",
      "symbol     658167 non-null object\n",
      "open       658167 non-null float64\n",
      "high       658167 non-null float64\n",
      "low        658167 non-null float64\n",
      "close      658167 non-null float64\n",
      "volume     658167 non-null int64\n",
      "market     658167 non-null int64\n",
      "name       658167 non-null object\n",
      "ranknow    658167 non-null int64\n",
      "dtypes: float64(4), int64(3), object(2)\n",
      "memory usage: 50.2+ MB\n"
     ]
    }
   ],
   "source": [
    "df.info()"
   ]
  },
  {
   "cell_type": "markdown",
   "metadata": {},
   "source": [
    "Hay demasiadas criptomonedas. Acá solo me enfocaré en Bitcoin. "
   ]
  },
  {
   "cell_type": "code",
   "execution_count": 5,
   "metadata": {},
   "outputs": [],
   "source": [
    "btc = df[df['symbol']=='BTC']  #Extraer los datos de Bitcoin \n",
    "btc.drop(['volume','symbol','name','ranknow','market'],axis=1,inplace=True) #Borramos las columnas que no necesitaremos"
   ]
  },
  {
   "cell_type": "code",
   "execution_count": 6,
   "metadata": {},
   "outputs": [
    {
     "data": {
      "text/plain": [
       "open     False\n",
       "high     False\n",
       "low      False\n",
       "close    False\n",
       "dtype: bool"
      ]
     },
     "execution_count": 6,
     "metadata": {},
     "output_type": "execute_result"
    }
   ],
   "source": [
    "btc.isnull().any()  #No tenemos valores nulos"
   ]
  },
  {
   "cell_type": "code",
   "execution_count": 7,
   "metadata": {},
   "outputs": [
    {
     "data": {
      "text/plain": [
       "(1696, 4)"
      ]
     },
     "execution_count": 7,
     "metadata": {},
     "output_type": "execute_result"
    }
   ],
   "source": [
    "#tenemos 1696 filas y 4 columnas\n",
    "btc.shape"
   ]
  },
  {
   "cell_type": "code",
   "execution_count": 8,
   "metadata": {},
   "outputs": [
    {
     "data": {
      "text/plain": [
       "<matplotlib.legend.Legend at 0x1e96d557708>"
      ]
     },
     "execution_count": 8,
     "metadata": {},
     "output_type": "execute_result"
    },
    {
     "data": {
      "image/png": "[encoded data removed]",
      "text/plain": [
       "<Figure size 864x432 with 1 Axes>"
      ]
     },
     "metadata": {},
     "output_type": "display_data"
    }
   ],
   "source": [
    "#Gráfica del promedio del precio en 30 días contra el precio de cierre.  ¡Enorme crecimiento del Bitcoin!\n",
    "\n",
    "sns.set()\n",
    "sns.set_style('whitegrid')\n",
    "btc['close'].plot(figsize=(12,6), label='Cierre del precio de Bitcoin')\n",
    "btc['close'].rolling(window=30).mean().plot(label='Promedio del precio de Bitcoin en 30 días')\n",
    "plt.legend()"
   ]
  },
  {
   "cell_type": "markdown",
   "metadata": {},
   "source": [
    "Predecir el comportamiento de Bitcoin dentro de un mes. "
   ]
  },
  {
   "cell_type": "code",
   "execution_count": 9,
   "metadata": {},
   "outputs": [],
   "source": [
    "#Agregaré una función para mejorar el modelo. Tafarel Yan proporciona esta función en su Kernel\n",
    "\n",
    "btc['ohlc_average'] = (btc['open'] + btc['high'] + btc['low'] + btc['close']) / 4"
   ]
  },
  {
   "cell_type": "code",
   "execution_count": 10,
   "metadata": {},
   "outputs": [
    {
     "data": {
      "text/html": [
       "<div>\n",
       "<style scoped>\n",
       "    .dataframe tbody tr th:only-of-type {\n",
       "        vertical-align: middle;\n",
       "    }\n",
       "\n",
       "    .dataframe tbody tr th {\n",
       "        vertical-align: top;\n",
       "    }\n",
       "\n",
       "    .dataframe thead th {\n",
       "        text-align: right;\n",
       "    }\n",
       "</style>\n",
       "<table border=\"1\" class=\"dataframe\">\n",
       "  <thead>\n",
       "    <tr style=\"text-align: right;\">\n",
       "      <th></th>\n",
       "      <th>open</th>\n",
       "      <th>high</th>\n",
       "      <th>low</th>\n",
       "      <th>close</th>\n",
       "      <th>ohlc_average</th>\n",
       "    </tr>\n",
       "    <tr>\n",
       "      <th>date</th>\n",
       "      <th></th>\n",
       "      <th></th>\n",
       "      <th></th>\n",
       "      <th></th>\n",
       "      <th></th>\n",
       "    </tr>\n",
       "  </thead>\n",
       "  <tbody>\n",
       "    <tr>\n",
       "      <td>2013-04-28</td>\n",
       "      <td>135.30</td>\n",
       "      <td>135.98</td>\n",
       "      <td>132.10</td>\n",
       "      <td>134.21</td>\n",
       "      <td>134.3975</td>\n",
       "    </tr>\n",
       "    <tr>\n",
       "      <td>2013-04-29</td>\n",
       "      <td>134.44</td>\n",
       "      <td>147.49</td>\n",
       "      <td>134.00</td>\n",
       "      <td>144.54</td>\n",
       "      <td>140.1175</td>\n",
       "    </tr>\n",
       "    <tr>\n",
       "      <td>2013-04-30</td>\n",
       "      <td>144.00</td>\n",
       "      <td>146.93</td>\n",
       "      <td>134.05</td>\n",
       "      <td>139.00</td>\n",
       "      <td>140.9950</td>\n",
       "    </tr>\n",
       "    <tr>\n",
       "      <td>2013-05-01</td>\n",
       "      <td>139.00</td>\n",
       "      <td>139.89</td>\n",
       "      <td>107.72</td>\n",
       "      <td>116.99</td>\n",
       "      <td>125.9000</td>\n",
       "    </tr>\n",
       "    <tr>\n",
       "      <td>2013-05-02</td>\n",
       "      <td>116.38</td>\n",
       "      <td>125.60</td>\n",
       "      <td>92.28</td>\n",
       "      <td>105.21</td>\n",
       "      <td>109.8675</td>\n",
       "    </tr>\n",
       "  </tbody>\n",
       "</table>\n",
       "</div>"
      ],
      "text/plain": [
       "              open    high     low   close  ohlc_average\n",
       "date                                                    \n",
       "2013-04-28  135.30  135.98  132.10  134.21      134.3975\n",
       "2013-04-29  134.44  147.49  134.00  144.54      140.1175\n",
       "2013-04-30  144.00  146.93  134.05  139.00      140.9950\n",
       "2013-05-01  139.00  139.89  107.72  116.99      125.9000\n",
       "2013-05-02  116.38  125.60   92.28  105.21      109.8675"
      ]
     },
     "execution_count": 10,
     "metadata": {},
     "output_type": "execute_result"
    }
   ],
   "source": [
    "btc.head()"
   ]
  },
  {
   "cell_type": "code",
   "execution_count": 11,
   "metadata": {},
   "outputs": [],
   "source": [
    "#Será nuestra variable-objetivo\n",
    "btc['Price_After_Month']=btc['close'].shift(-30)"
   ]
  },
  {
   "cell_type": "code",
   "execution_count": 12,
   "metadata": {},
   "outputs": [
    {
     "data": {
      "text/html": [
       "<div>\n",
       "<style scoped>\n",
       "    .dataframe tbody tr th:only-of-type {\n",
       "        vertical-align: middle;\n",
       "    }\n",
       "\n",
       "    .dataframe tbody tr th {\n",
       "        vertical-align: top;\n",
       "    }\n",
       "\n",
       "    .dataframe thead th {\n",
       "        text-align: right;\n",
       "    }\n",
       "</style>\n",
       "<table border=\"1\" class=\"dataframe\">\n",
       "  <thead>\n",
       "    <tr style=\"text-align: right;\">\n",
       "      <th></th>\n",
       "      <th>open</th>\n",
       "      <th>high</th>\n",
       "      <th>low</th>\n",
       "      <th>close</th>\n",
       "      <th>ohlc_average</th>\n",
       "      <th>Price_After_Month</th>\n",
       "    </tr>\n",
       "    <tr>\n",
       "      <th>date</th>\n",
       "      <th></th>\n",
       "      <th></th>\n",
       "      <th></th>\n",
       "      <th></th>\n",
       "      <th></th>\n",
       "      <th></th>\n",
       "    </tr>\n",
       "  </thead>\n",
       "  <tbody>\n",
       "    <tr>\n",
       "      <td>2017-12-14</td>\n",
       "      <td>16384.6</td>\n",
       "      <td>17085.8</td>\n",
       "      <td>16185.9</td>\n",
       "      <td>16564.0</td>\n",
       "      <td>16555.075</td>\n",
       "      <td>NaN</td>\n",
       "    </tr>\n",
       "    <tr>\n",
       "      <td>2017-12-15</td>\n",
       "      <td>16601.3</td>\n",
       "      <td>18154.1</td>\n",
       "      <td>16601.3</td>\n",
       "      <td>17706.9</td>\n",
       "      <td>17265.900</td>\n",
       "      <td>NaN</td>\n",
       "    </tr>\n",
       "    <tr>\n",
       "      <td>2017-12-16</td>\n",
       "      <td>17760.3</td>\n",
       "      <td>19716.7</td>\n",
       "      <td>17515.3</td>\n",
       "      <td>19497.4</td>\n",
       "      <td>18622.425</td>\n",
       "      <td>NaN</td>\n",
       "    </tr>\n",
       "    <tr>\n",
       "      <td>2017-12-17</td>\n",
       "      <td>19475.8</td>\n",
       "      <td>20089.0</td>\n",
       "      <td>18974.1</td>\n",
       "      <td>19140.8</td>\n",
       "      <td>19419.925</td>\n",
       "      <td>NaN</td>\n",
       "    </tr>\n",
       "    <tr>\n",
       "      <td>2017-12-18</td>\n",
       "      <td>19106.4</td>\n",
       "      <td>19371.0</td>\n",
       "      <td>18355.9</td>\n",
       "      <td>19114.2</td>\n",
       "      <td>18986.875</td>\n",
       "      <td>NaN</td>\n",
       "    </tr>\n",
       "  </tbody>\n",
       "</table>\n",
       "</div>"
      ],
      "text/plain": [
       "               open     high      low    close  ohlc_average  \\\n",
       "date                                                           \n",
       "2017-12-14  16384.6  17085.8  16185.9  16564.0     16555.075   \n",
       "2017-12-15  16601.3  18154.1  16601.3  17706.9     17265.900   \n",
       "2017-12-16  17760.3  19716.7  17515.3  19497.4     18622.425   \n",
       "2017-12-17  19475.8  20089.0  18974.1  19140.8     19419.925   \n",
       "2017-12-18  19106.4  19371.0  18355.9  19114.2     18986.875   \n",
       "\n",
       "            Price_After_Month  \n",
       "date                           \n",
       "2017-12-14                NaN  \n",
       "2017-12-15                NaN  \n",
       "2017-12-16                NaN  \n",
       "2017-12-17                NaN  \n",
       "2017-12-18                NaN  "
      ]
     },
     "execution_count": 12,
     "metadata": {},
     "output_type": "execute_result"
    }
   ],
   "source": [
    "#Movimos todos nuestros valores 30 líneas en nuestra última columna.\n",
    "btc.tail()"
   ]
  },
  {
   "cell_type": "code",
   "execution_count": 13,
   "metadata": {},
   "outputs": [],
   "source": [
    "#Necesitamos escalar nuestros valores para ingresarlos en nuestro modelo\n",
    "\n",
    "from sklearn import preprocessing\n",
    "\n",
    "btc.dropna(inplace=True)\n",
    "X=btc.drop('Price_After_Month', axis=1)\n",
    "X=preprocessing.scale(X)\n",
    "y=btc['Price_After_Month']"
   ]
  },
  {
   "cell_type": "code",
   "execution_count": 14,
   "metadata": {},
   "outputs": [],
   "source": [
    "from sklearn.model_selection import cross_validate\n",
    "\n",
    "from sklearn.model_selection import train_test_split\n",
    "\n",
    "X_train,X_test,y_train,y_test= train_test_split(X,y,test_size=0.3,random_state=101)\n",
    "\n"
   ]
  },
  {
   "cell_type": "code",
   "execution_count": 15,
   "metadata": {},
   "outputs": [
    {
     "name": "stdout",
     "output_type": "stream",
     "text": [
      "Accuracy is: 91.7867 %\n"
     ]
    }
   ],
   "source": [
    "from sklearn.ensemble import RandomForestRegressor\n",
    "reg=RandomForestRegressor(n_estimators=200,random_state=101)\n",
    "reg.fit(X_train,y_train)\n",
    "accuracy=reg.score(X_test,y_test)\n",
    "accuracy=accuracy*100\n",
    "accuracy = float(\"{0:.4f}\".format(accuracy))\n",
    "print('Accuracy is:',accuracy,'%')   #Este porcentaje muestra cuánto se ajusta nuestra regresión a nuestros datos."
   ]
  },
  {
   "cell_type": "code",
   "execution_count": 16,
   "metadata": {},
   "outputs": [
    {
     "name": "stdout",
     "output_type": "stream",
     "text": [
      "The prediction is: 607.1487500000002 But the real value is: 607.15\n"
     ]
    }
   ],
   "source": [
    "#Podemos ver que nuestras predicciones son bastante precisas\n",
    "preds = reg.predict(X_test)\n",
    "print(\"The prediction is:\",preds[1],\"But the real value is:\" ,y_test[1])"
   ]
  },
  {
   "cell_type": "code",
   "execution_count": 17,
   "metadata": {},
   "outputs": [],
   "source": [
    "#Tomaremos los últimos 30 elementos para hacer nuestras predicciones sobre ellos.\n",
    "\n",
    "X_30=X[-30:]\n",
    "forecast=reg.predict(X_30)"
   ]
  },
  {
   "cell_type": "code",
   "execution_count": 18,
   "metadata": {},
   "outputs": [
    {
     "data": {
      "text/html": [
       "<div>\n",
       "<style scoped>\n",
       "    .dataframe tbody tr th:only-of-type {\n",
       "        vertical-align: middle;\n",
       "    }\n",
       "\n",
       "    .dataframe tbody tr th {\n",
       "        vertical-align: top;\n",
       "    }\n",
       "\n",
       "    .dataframe thead th {\n",
       "        text-align: right;\n",
       "    }\n",
       "</style>\n",
       "<table border=\"1\" class=\"dataframe\">\n",
       "  <thead>\n",
       "    <tr style=\"text-align: right;\">\n",
       "      <th></th>\n",
       "      <th>Forecast</th>\n",
       "      <th>Price_After_Month</th>\n",
       "      <th>close</th>\n",
       "      <th>high</th>\n",
       "      <th>low</th>\n",
       "      <th>ohlc_average</th>\n",
       "      <th>open</th>\n",
       "    </tr>\n",
       "  </thead>\n",
       "  <tbody>\n",
       "    <tr>\n",
       "      <td>2017-12-14</td>\n",
       "      <td>15028.3660</td>\n",
       "      <td>NaN</td>\n",
       "      <td>NaN</td>\n",
       "      <td>NaN</td>\n",
       "      <td>NaN</td>\n",
       "      <td>NaN</td>\n",
       "      <td>NaN</td>\n",
       "    </tr>\n",
       "    <tr>\n",
       "      <td>2017-12-15</td>\n",
       "      <td>12557.5675</td>\n",
       "      <td>NaN</td>\n",
       "      <td>NaN</td>\n",
       "      <td>NaN</td>\n",
       "      <td>NaN</td>\n",
       "      <td>NaN</td>\n",
       "      <td>NaN</td>\n",
       "    </tr>\n",
       "    <tr>\n",
       "      <td>2017-12-16</td>\n",
       "      <td>18573.0780</td>\n",
       "      <td>NaN</td>\n",
       "      <td>NaN</td>\n",
       "      <td>NaN</td>\n",
       "      <td>NaN</td>\n",
       "      <td>NaN</td>\n",
       "      <td>NaN</td>\n",
       "    </tr>\n",
       "    <tr>\n",
       "      <td>2017-12-17</td>\n",
       "      <td>18982.8710</td>\n",
       "      <td>NaN</td>\n",
       "      <td>NaN</td>\n",
       "      <td>NaN</td>\n",
       "      <td>NaN</td>\n",
       "      <td>NaN</td>\n",
       "      <td>NaN</td>\n",
       "    </tr>\n",
       "    <tr>\n",
       "      <td>2017-12-18</td>\n",
       "      <td>18945.9850</td>\n",
       "      <td>NaN</td>\n",
       "      <td>NaN</td>\n",
       "      <td>NaN</td>\n",
       "      <td>NaN</td>\n",
       "      <td>NaN</td>\n",
       "      <td>NaN</td>\n",
       "    </tr>\n",
       "  </tbody>\n",
       "</table>\n",
       "</div>"
      ],
      "text/plain": [
       "              Forecast  Price_After_Month  close  high  low  ohlc_average  \\\n",
       "2017-12-14  15028.3660                NaN    NaN   NaN  NaN           NaN   \n",
       "2017-12-15  12557.5675                NaN    NaN   NaN  NaN           NaN   \n",
       "2017-12-16  18573.0780                NaN    NaN   NaN  NaN           NaN   \n",
       "2017-12-17  18982.8710                NaN    NaN   NaN  NaN           NaN   \n",
       "2017-12-18  18945.9850                NaN    NaN   NaN  NaN           NaN   \n",
       "\n",
       "            open  \n",
       "2017-12-14   NaN  \n",
       "2017-12-15   NaN  \n",
       "2017-12-16   NaN  \n",
       "2017-12-17   NaN  \n",
       "2017-12-18   NaN  "
      ]
     },
     "execution_count": 18,
     "metadata": {},
     "output_type": "execute_result"
    }
   ],
   "source": [
    "#Creando una nueva columna que contiene las predicciones!\n",
    "\n",
    "from datetime import datetime, timedelta\n",
    "last_date=btc.iloc[-1].name\n",
    "modified_date = last_date + timedelta(days=1)\n",
    "date=pd.date_range(modified_date,periods=30,freq='D')\n",
    "df1=pd.DataFrame(forecast,columns=['Forecast'],index=date)\n",
    "btc=btc.append(df1)\n",
    "btc.tail()"
   ]
  },
  {
   "cell_type": "code",
   "execution_count": 19,
   "metadata": {},
   "outputs": [
    {
     "data": {
      "text/plain": [
       "<matplotlib.legend.Legend at 0x1e96e023748>"
      ]
     },
     "execution_count": 19,
     "metadata": {},
     "output_type": "execute_result"
    },
    {
     "data": {
      "image/png": "[encoded data removed]",
      "text/plain": [
       "<Figure size 864x432 with 1 Axes>"
      ]
     },
     "metadata": {},
     "output_type": "display_data"
    }
   ],
   "source": [
    "#¡Ahora trazaremos nuestro pronóstico!\n",
    "\n",
    "btc['close'].plot(figsize=(12,6),label='Close')\n",
    "btc['Forecast'].plot(label='forecast')\n",
    "plt.legend()"
   ]
  },
  {
   "cell_type": "markdown",
   "metadata": {},
   "source": [
    "\n",
    "¡Bitcoin costaba unos 18000 USD el 18 de diciembre y nuestro modelo predijo que sería de 18945 USD! Nada mal lograr esto con solo un modelo básico."
   ]
  }
 ],
 "metadata": {
  "kernelspec": {
   "display_name": "Python 3",
   "language": "python",
   "name": "python3"
  },
  "language_info": {
   "codemirror_mode": {
    "name": "ipython",
    "version": 3
   },
   "file_extension": ".py",
   "mimetype": "text/x-python",
   "name": "python",
   "nbconvert_exporter": "python",
   "pygments_lexer": "ipython3",
   "version": "3.7.4"
  }
 },
 "nbformat": 4,
 "nbformat_minor": 2
}
